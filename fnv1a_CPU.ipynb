{
 "cells": [
  {
   "cell_type": "markdown",
   "metadata": {},
   "source": [
    "# Implémentation CPU - Algorithme de hachage Fowler-Noll-Vo - 1A #\n",
    "Sources : \n",
    "- http://www.isthe.com/chongo/tech/comp/fnv/index.html\n",
    "- https://en.wikipedia.org/wiki/Fowler%E2%80%93Noll%E2%80%93Vo_hash_function\n",
    "---"
   ]
  },
  {
   "cell_type": "markdown",
   "metadata": {},
   "source": [
    "### Import des librairies externes ###"
   ]
  },
  {
   "cell_type": "code",
   "execution_count": 10,
   "metadata": {},
   "outputs": [],
   "source": [
    "import time"
   ]
  },
  {
   "cell_type": "markdown",
   "metadata": {},
   "source": [
    "### Fonction FNV-1A ###"
   ]
  },
  {
   "cell_type": "code",
   "execution_count": null,
   "metadata": {},
   "outputs": [],
   "source": [
    "def fnv1a_hash_cpu(data: bytes) -> int:\n",
    "    fnv1a_init = 0xCBF29CE484222325\n",
    "    fnv_prime = 0x100000001B3\n",
    "\n",
    "    val_hash = fnv1a_init\n",
    "\n",
    "    for i in data:\n",
    "        val_hash ^= i\n",
    "        val_hash *= fnv_prime\n",
    "        val_hash &= 0xFFFFFFFFFFFFFFFF\n",
    "\n",
    "    return val_hash"
   ]
  },
  {
   "cell_type": "markdown",
   "metadata": {},
   "source": [
    "### Fonction d'appel et de mesure du temps d'exécution ###"
   ]
  },
  {
   "cell_type": "code",
   "execution_count": 12,
   "metadata": {},
   "outputs": [],
   "source": [
    "def hash_cpu(liste):\n",
    "    \n",
    "    print(f\"Hash de {len(liste)} chaines en CPU (FNV-1a)...\")\n",
    "\n",
    "    t1 = time.time()\n",
    "    resultat = [fnv1a_hash_cpu(s.encode('utf-8')) for s in liste]\n",
    "    t2 = time.time()\n",
    "    cpu_time = t2-t1\n",
    "\n",
    "    print(f\"Durée d'implémentation : {cpu_time * 1e3} ms\")\n",
    "    return resultat"
   ]
  },
  {
   "cell_type": "markdown",
   "metadata": {},
   "source": [
    "---\n",
    "### Exécution standard ###"
   ]
  },
  {
   "cell_type": "code",
   "execution_count": 13,
   "metadata": {},
   "outputs": [
    {
     "name": "stdout",
     "output_type": "stream",
     "text": [
      "Hash de 1000000 chaines en CPU (FNV-1a)...\n",
      "Durée d'implémentation : 2274.763822555542 ms\n"
     ]
    }
   ],
   "source": [
    "if __name__ == \"__main__\":\n",
    "    list_data = [f\"data_{i}\" for i in range(1000000)]\n",
    "    hashes = hash_cpu(list_data)"
   ]
  }
 ],
 "metadata": {
  "kernelspec": {
   "display_name": "base",
   "language": "python",
   "name": "python3"
  },
  "language_info": {
   "codemirror_mode": {
    "name": "ipython",
    "version": 3
   },
   "file_extension": ".py",
   "mimetype": "text/x-python",
   "name": "python",
   "nbconvert_exporter": "python",
   "pygments_lexer": "ipython3",
   "version": "3.11.7"
  }
 },
 "nbformat": 4,
 "nbformat_minor": 2
}
