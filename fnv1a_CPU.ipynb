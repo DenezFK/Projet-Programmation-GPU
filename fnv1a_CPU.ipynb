{
 "cells": [
  {
   "cell_type": "markdown",
   "metadata": {},
   "source": [
    "# Implémentation CPU - Algorithme de hachage Fowler-Noll-Vo - 1A #\n",
    "Sources : \n",
    "- http://www.isthe.com/chongo/tech/comp/fnv/index.html\n",
    "- https://en.wikipedia.org/wiki/Fowler%E2%80%93Noll%E2%80%93Vo_hash_function\n",
    "---"
   ]
  },
  {
   "cell_type": "markdown",
   "metadata": {},
   "source": [
    "### Import des librairies externes ###"
   ]
  },
  {
   "cell_type": "code",
   "execution_count": 18,
   "metadata": {},
   "outputs": [],
   "source": [
    "import time"
   ]
  },
  {
   "cell_type": "markdown",
   "metadata": {},
   "source": [
    "### Fonction FNV-1A ###"
   ]
  },
  {
   "cell_type": "code",
   "execution_count": 19,
   "metadata": {},
   "outputs": [],
   "source": [
    "def fnv1a_hash_cpu(messages: bytes) -> int:\n",
    "    \"\"\"\n",
    "    Implementation CPU de l'algorithme de hash FNV1a-64 bits\n",
    "    Paramètre de la fonction :\n",
    "    messages : messages a hasher\n",
    "    \"\"\"\n",
    "    fnv1a_init = 0xCBF29CE484222325 # decalage initial\n",
    "    fnv_prime = 0x100000001B3 # Nombre premier pour FNV1a en 64 bits\n",
    "\n",
    "    val_hash = fnv1a_init # init avec le decalage\n",
    "\n",
    "    for i in messages:\n",
    "        val_hash ^= i #applique un XOR\n",
    "        val_hash *= fnv_prime # multiplie avec le nombre premier\n",
    "        val_hash &= 0xFFFFFFFFFFFFFFFF #conserve le resultat sur 64 bits\n",
    "\n",
    "    return val_hash"
   ]
  },
  {
   "cell_type": "markdown",
   "metadata": {},
   "source": [
    "### Fonction d'appel et de mesure du temps d'exécution ###"
   ]
  },
  {
   "cell_type": "code",
   "execution_count": 20,
   "metadata": {},
   "outputs": [],
   "source": [
    "def hash_cpu(liste):\n",
    "    \"\"\"\n",
    "    fonction d'application de fnv1a_hash_cpu() a toute la liste de messages :\n",
    "    \"\"\"\n",
    "    print(f\"Hash de {len(liste)} chaines sur CPU\") #indique le nombre de chaines traite\n",
    "\n",
    "    t1 = time.time()\n",
    "    resultat = [fnv1a_hash_cpu(s.encode('utf-8')) for s in liste] #encode en utf-8 (en bytes) et appelle fnv1a_hash_cpu\n",
    "    t2 = time.time()\n",
    "    cpu_time = t2-t1 #calcul le temps d execution\n",
    "\n",
    "    print(f\"temps implementation : {cpu_time * 1e3} ms\")\n",
    "    return resultat"
   ]
  },
  {
   "cell_type": "markdown",
   "metadata": {},
   "source": [
    "---\n",
    "### Exécution standard ###"
   ]
  },
  {
   "cell_type": "code",
   "execution_count": 21,
   "metadata": {},
   "outputs": [
    {
     "name": "stdout",
     "output_type": "stream",
     "text": [
      "Hash de 1000000 chaines sur CPU\n",
      "temps implementation : 2060.319423675537 ms\n"
     ]
    }
   ],
   "source": [
    "# remplir une liste de messages a hasher\n",
    "if __name__ == \"__main__\":\n",
    "    nb_messages = 1000000 # 1 million\n",
    "    test_data = [f\"data_{i}\" for i in range(nb_messages)] \n",
    "    hashes = hash_cpu(test_data)"
   ]
  }
 ],
 "metadata": {
  "kernelspec": {
   "display_name": "base",
   "language": "python",
   "name": "python3"
  },
  "language_info": {
   "codemirror_mode": {
    "name": "ipython",
    "version": 3
   },
   "file_extension": ".py",
   "mimetype": "text/x-python",
   "name": "python",
   "nbconvert_exporter": "python",
   "pygments_lexer": "ipython3",
   "version": "3.11.7"
  }
 },
 "nbformat": 4,
 "nbformat_minor": 2
}
