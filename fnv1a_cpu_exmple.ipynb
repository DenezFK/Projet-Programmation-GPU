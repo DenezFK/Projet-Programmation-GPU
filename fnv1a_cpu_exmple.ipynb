{
 "cells": [
  {
   "cell_type": "markdown",
   "metadata": {},
   "source": [
    "# Programmation GPU - Projet #"
   ]
  },
  {
   "cell_type": "code",
   "execution_count": null,
   "metadata": {
    "vscode": {
     "languageId": "plaintext"
    }
   },
   "outputs": [],
   "source": [
    "import time"
   ]
  },
  {
   "cell_type": "code",
   "execution_count": null,
   "metadata": {},
   "outputs": [],
   "source": [
    "def fnv1a_cpu(data: str) -> int:\n",
    "    \"\"\"\n",
    "    Implémentation CPU de FNV-1a hash (32 bits)\n",
    "    Entrée : une chaîne de caractères\n",
    "    Sortie : entier hashé sur 32 bits\n",
    "    \"\"\"\n",
    "    FNV_OFFSET_BASIS = 0x811c9dc5  # 2166136261\n",
    "    FNV_PRIME = 0x01000193         # 16777619\n",
    "\n",
    "    hash_val = FNV_OFFSET_BASIS\n",
    "    for char in data.encode('utf-8'):\n",
    "        hash_val ^= char\n",
    "        hash_val = (hash_val * FNV_PRIME) & 0xFFFFFFFF  # Reste dans 32 bits\n",
    "\n",
    "    return hash_val\n",
    "\n",
    "def hash_all_cpu(input_list):\n",
    "    \"\"\"\n",
    "    Hash une liste de chaînes avec FNV-1a, mesure le temps\n",
    "    \"\"\"\n",
    "    print(f\"Hash de {len(input_list)} chaînes en CPU (FNV-1a)...\")\n",
    "\n",
    "    start = time.time()\n",
    "    results = [fnv1a_cpu(s) for s in input_list]\n",
    "    end = time.time()\n",
    "\n",
    "    print(f\"Temps total : {end - start:.4f} secondes\")\n",
    "    print(f\"Exemple : {input_list[0]} -> {results[0]:08x}\")\n",
    "    return results"
   ]
  },
  {
   "cell_type": "markdown",
   "metadata": {},
   "source": [
    "## Exécution principale ##"
   ]
  },
  {
   "cell_type": "code",
   "execution_count": null,
   "metadata": {},
   "outputs": [],
   "source": [
    "if __name__ == \"__main__\":\n",
    "    test_data = [f\"data_{i}\" for i in range(1000000)]  # Tu peux changer la taille ici\n",
    "    hashes = hash_all_cpu(test_data)"
   ]
  }
 ],
 "metadata": {
  "language_info": {
   "name": "python"
  }
 },
 "nbformat": 4,
 "nbformat_minor": 2
}
