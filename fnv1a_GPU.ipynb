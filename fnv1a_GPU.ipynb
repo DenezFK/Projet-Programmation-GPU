{
 "cells": [
  {
   "cell_type": "markdown",
   "metadata": {},
   "source": [
    "# Implémentation GPU - Algorithme de hachage Fowler-Noll-Vo - 1A #\n",
    "Sources : \n",
    "- http://www.isthe.com/chongo/tech/comp/fnv/index.html\n",
    "- https://en.wikipedia.org/wiki/Fowler%E2%80%93Noll%E2%80%93Vo_hash_function\n",
    "---"
   ]
  },
  {
   "cell_type": "markdown",
   "metadata": {},
   "source": [
    "### Import des librairies externes ###"
   ]
  },
  {
   "cell_type": "code",
   "execution_count": 13,
   "metadata": {},
   "outputs": [],
   "source": [
    "import numpy as np\n",
    "from numba import cuda, uint64\n",
    "import time"
   ]
  },
  {
   "cell_type": "markdown",
   "metadata": {},
   "source": [
    "### Fonction FNV-1A - Kernel CUDA ###"
   ]
  },
  {
   "cell_type": "code",
   "execution_count": 14,
   "metadata": {},
   "outputs": [],
   "source": [
    "@cuda.jit\n",
    "def fnv1a_kernel(messages, lengths, output):\n",
    "    \"\"\"\n",
    "    Implementation GPU de l'algorithme de hash FNV1a-64 bits\n",
    "      Params : \n",
    "        messages : message a hasher\n",
    "        lengths : taille du message\n",
    "        output: hash de sortie\n",
    "    \"\"\"\n",
    "    FNV1A_64_INIT = uint64(0xCBF29CE484222325) # decalage initial\n",
    "    FNV_64_PRIME = uint64(0x100000001B3)       # Nb premier, pour 64bits\n",
    "\n",
    "    # TID\n",
    "    tid = cuda.threadIdx.x+ cuda.blockIdx.x * cuda.blockDim.x\n",
    "\n",
    "    # Verification des dimensions\n",
    "    if tid >= messages.shape[0]:\n",
    "        return\n",
    "        \n",
    "    # init sur le decalage initial\n",
    "    h = FNV1A_64_INIT\n",
    "    for i in range(lengths[tid]): # hash le message en repercutant les bits\n",
    "        h ^= uint64(messages[tid, i])  # XOR\n",
    "        h *= FNV_64_PRIME  # Multiplication par le nb premier\n",
    "        h &= uint64(0xFFFFFFFFFFFFFFFF)  # Assurer 64-bit\n",
    "\n",
    "    # Message hashé\n",
    "    output[tid] = h"
   ]
  },
  {
   "cell_type": "markdown",
   "metadata": {},
   "source": [
    "### Fonction d'appel et de mesure du temps d'exécution ###"
   ]
  },
  {
   "cell_type": "code",
   "execution_count": 15,
   "metadata": {},
   "outputs": [],
   "source": [
    "def hash_all_gpu(input_list):\n",
    "    \"\"\"\n",
    "    Hash une liste de chaînes avec FNV-1a 64-bit sur GPU\n",
    "      params:\n",
    "       input_list: liste des messages en clair à hasher\n",
    "    \"\"\"\n",
    "    print(f\"Hash de {len(input_list):,} chaînes en GPU (FNV-1a 64-bit)...\")\n",
    "\n",
    "    N = len(input_list)\n",
    "    max_len = 32  # chaînes de 32 caractères\n",
    "\n",
    "    # Init les tableaux\n",
    "    messages_np = np.zeros((N, max_len), dtype=np.uint8)\n",
    "    lengths_np = np.zeros(N, dtype=np.uint8)\n",
    "\n",
    "    # Remplis avec les messages à hasher\n",
    "    for i, s in enumerate(input_list):\n",
    "        encoded = s.encode('utf-8')[:max_len]\n",
    "        messages_np[i, :len(encoded)] = list(encoded)\n",
    "        lengths_np[i] = len(encoded)\n",
    "    \n",
    "    output_np = np.zeros(N, dtype=np.uint64)\n",
    "\n",
    "    # alloc gpu\n",
    "    d_messages = cuda.to_device(messages_np)\n",
    "    d_lengths = cuda.to_device(lengths_np)\n",
    "    d_output = cuda.device_array(N, dtype=np.uint64)\n",
    "\n",
    "    Nthreads = 128\n",
    "    Nblocks = int(np.ceil(N / Nthreads))\n",
    "\n",
    "    # lancer le kernel\n",
    "    start = time.time()\n",
    "    fnv1a_kernel[Nblocks, Nthreads](d_messages, d_lengths, d_output)\n",
    "    cuda.synchronize()\n",
    "    end = time.time()\n",
    "\n",
    "    # Resultats\n",
    "    d_output.copy_to_host(ary=output_np)\n",
    "\n",
    "    print(f\"Temps total : {(end - start) * 1e3} ms\")\n",
    "    print(f\"Exemple : {input_list[0]} -> {output_np[0]:016x}\")\n",
    "    return output_np"
   ]
  },
  {
   "cell_type": "markdown",
   "metadata": {},
   "source": [
    "---\n",
    "### Exécution standard ###"
   ]
  },
  {
   "cell_type": "code",
   "execution_count": null,
   "metadata": {},
   "outputs": [],
   "source": [
    "# remplir une liste de messages a hasher\n",
    "if __name__ == \"__main__\":\n",
    "    nb_messages = 1000000 # 1 million\n",
    "    test_data = [f\"data_{i}\" for i in range(nb_messages)]  \n",
    "    hashes_gpu = hash_all_gpu(test_data)"
   ]
  }
 ],
 "metadata": {
  "kernelspec": {
   "display_name": "base",
   "language": "python",
   "name": "python3"
  },
  "language_info": {
   "codemirror_mode": {
    "name": "ipython",
    "version": 3
   },
   "file_extension": ".py",
   "mimetype": "text/x-python",
   "name": "python",
   "nbconvert_exporter": "python",
   "pygments_lexer": "ipython3",
   "version": "3.11.7"
  }
 },
 "nbformat": 4,
 "nbformat_minor": 2
}
